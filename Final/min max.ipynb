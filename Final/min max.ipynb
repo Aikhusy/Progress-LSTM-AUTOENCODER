{
 "cells": [
  {
   "cell_type": "code",
   "execution_count": 1,
   "id": "a513fb1d",
   "metadata": {},
   "outputs": [
    {
     "name": "stdout",
     "output_type": "stream",
     "text": [
      "                  Min (≠ 0)        Max\n",
      "fw_cpu_used               1          3\n",
      "mem_used            7786876    7934136\n",
      "root_used          10074292   10103360\n",
      "log_used           10030480   10415528\n",
      "fw_total_alloc    372230365  648786522\n",
      "total_rx_packets    9030155   19141339\n",
      "total_tx_packets     560546    1824410\n"
     ]
    }
   ],
   "source": [
    "import pandas as pd\n",
    "\n",
    "# Membaca file CSV\n",
    "df = pd.read_csv('LinearDatas.csv', delimiter=';')\n",
    "\n",
    "# Ambil hanya kolom numerik\n",
    "numeric_df = df.select_dtypes(include='number')\n",
    "\n",
    "# Hitung nilai minimum tanpa memperhitungkan 0\n",
    "min_values = numeric_df.apply(lambda col: col[col != 0].min())\n",
    "max_values = numeric_df.max()\n",
    "\n",
    "# Gabungkan ke dalam satu DataFrame\n",
    "summary = pd.DataFrame({'Min (≠ 0)': min_values, 'Max': max_values})\n",
    "\n",
    "print(summary)\n"
   ]
  },
  {
   "cell_type": "code",
   "execution_count": 2,
   "id": "af541c05",
   "metadata": {},
   "outputs": [
    {
     "name": "stdout",
     "output_type": "stream",
     "text": [
      "                  Min (≠ 0)        Max\n",
      "fw_cpu_used               1          2\n",
      "mem_used            7901444    7935770\n",
      "root_used          10093000   10093420\n",
      "log_used           10306622   10317596\n",
      "fw_total_alloc    645430491  648636737\n",
      "total_rx_packets   19000469   19154656\n",
      "total_tx_packets    1820001    1824177\n"
     ]
    }
   ],
   "source": [
    "import pandas as pd\n",
    "\n",
    "# Membaca file CSV\n",
    "df = pd.read_csv('system_monitoring_unsupervised.csv', delimiter=';')\n",
    "\n",
    "# Ambil hanya kolom numerik\n",
    "numeric_df = df.select_dtypes(include='number')\n",
    "\n",
    "# Hitung nilai minimum tanpa memperhitungkan 0\n",
    "min_values = numeric_df.apply(lambda col: col[col != 0].min())\n",
    "max_values = numeric_df.max()\n",
    "\n",
    "# Gabungkan ke dalam satu DataFrame\n",
    "summary = pd.DataFrame({'Min (≠ 0)': min_values, 'Max': max_values})\n",
    "\n",
    "print(summary)"
   ]
  }
 ],
 "metadata": {
  "kernelspec": {
   "display_name": "Python 3",
   "language": "python",
   "name": "python3"
  },
  "language_info": {
   "codemirror_mode": {
    "name": "ipython",
    "version": 3
   },
   "file_extension": ".py",
   "mimetype": "text/x-python",
   "name": "python",
   "nbconvert_exporter": "python",
   "pygments_lexer": "ipython3",
   "version": "3.10.0"
  }
 },
 "nbformat": 4,
 "nbformat_minor": 5
}
